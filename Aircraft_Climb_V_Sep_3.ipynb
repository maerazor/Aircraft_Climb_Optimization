{
  "nbformat": 4,
  "nbformat_minor": 0,
  "metadata": {
    "kernelspec": {
      "display_name": "Python 3",
      "language": "python",
      "name": "python3"
    },
    "language_info": {
      "codemirror_mode": {
        "name": "ipython",
        "version": 3
      },
      "file_extension": ".py",
      "mimetype": "text/x-python",
      "name": "python",
      "nbconvert_exporter": "python",
      "pygments_lexer": "ipython3",
      "version": "3.7.3"
    },
    "colab": {
      "name": "Aircraft_Climb_V_Sep_3.ipynb",
      "provenance": [],
      "include_colab_link": true
    }
  },
  "cells": [
    {
      "cell_type": "markdown",
      "metadata": {
        "id": "view-in-github",
        "colab_type": "text"
      },
      "source": [
        "<a href=\"https://colab.research.google.com/github/maerazor/Aircraft_Climb_Optimization/blob/master/Aircraft_Climb_V_Sep_3.ipynb\" target=\"_parent\"><img src=\"https://colab.research.google.com/assets/colab-badge.svg\" alt=\"Open In Colab\"/></a>"
      ]
    },
    {
      "cell_type": "markdown",
      "metadata": {
        "id": "f3wR6XcASYzJ",
        "colab_type": "text"
      },
      "source": [
        "## Aircraft Climb Optimization \n",
        "(AIRBUS QUANTUM COMPUTING CHALLENGE)\n",
        "\n",
        "In this document is the simplified statement problem published in September and turned to the International System of Units.\n",
        "\n",
        "Given the ambiguity of some definitions, in this notebook assumes the following:\n",
        "\n"
      ]
    },
    {
      "cell_type": "markdown",
      "metadata": {
        "id": "uxOcY-apSYzX",
        "colab_type": "text"
      },
      "source": [
        "\\begin{equation}\n",
        "\\rho(0) \\equiv \\rho (Zp_0) \\not \\equiv \\rho_0\n",
        "\\end{equation}\n",
        "\n",
        "\\begin{equation}\n",
        "\\rho_i \\equiv \\rho (Zp_i)  \\space\\space\\space _{(1 \\leq i \\leq N-2)}\n",
        "\\end{equation}\n",
        "\n",
        "\\begin{equation}\n",
        "\\rho_i \\equiv \\rho_0  \\space\\space\\space _{(i = 0)}\n",
        "\\end{equation}\n",
        "\n",
        "\\begin{equation}\n",
        "MACH(\\nu_i,Zp_i) \\equiv M(\\nu,Zp)\n",
        "\\end{equation}"
      ]
    },
    {
      "cell_type": "markdown",
      "metadata": {
        "id": "jHkl519mSYzb",
        "colab_type": "text"
      },
      "source": [
        "The steps followed were as follows\n",
        "* I isolated $\\lambda_{i+1}$ from the third equation and replaced it in the first one (red arrow).\n",
        "* I isolated $Cz_{i+1}$ from the third equation and cleared it in the first (blue arrow).\n",
        "* Given the values of $\\nu_{i+1}$ and $\\gamma_{i + 1}$ I found the value of $m_{i+1}$ such that first relation was satisfied, with this value and with the values $\\nu_{i+1}$ and $\\gamma_{i + 1}$ and also using the other relations I found $Cz_{i+1}$, $t_{i+1}$, $s_{i+1}$, $\\lambda_{i+1}$"
      ]
    },
    {
      "cell_type": "markdown",
      "metadata": {
        "id": "j6pEstIlneQt",
        "colab_type": "text"
      },
      "source": [
        "<div>\n",
        "<img src=\"https://raw.githubusercontent.com/maerazor/Aircraft_Climb_Optimization/master/Untitled-1.jpg\" width=\"700\"/>\n",
        "</div>"
      ]
    },
    {
      "cell_type": "code",
      "metadata": {
        "id": "nu6zgABoSYzp",
        "colab_type": "code",
        "colab": {}
      },
      "source": [
        "import numpy as np\n",
        "import matplotlib.pyplot as plt\n",
        "from scipy.optimize import newton\n",
        "import scipy.optimize as optimize\n",
        "from matplotlib import cm\n",
        "import ipyvolume as ipv\n",
        "# %matplotlib inline"
      ],
      "execution_count": 0,
      "outputs": []
    },
    {
      "cell_type": "code",
      "metadata": {
        "id": "ZgH9wdzDSY0E",
        "colab_type": "code",
        "colab": {}
      },
      "source": [
        "# Table, pag: 6\n",
        "Cx_o   =  0.014\n",
        "k      =  0.09\n",
        "Cz_max =  0.7\n",
        "S_REF  =  120\n",
        "eta    =  0.06/3600\n",
        "Zp_I   =  3048\n",
        "Zp_F   =  10972.8\n",
        "m_I    =  60000\n",
        "CAS_I  =  128.61111111\n",
        "VMO    =  180.05555555\n",
        "MMO    =  0.82\n",
        "M_CRZ  =  0.80\n",
        "L      =  400000\n",
        "s_F    =  L\n",
        "Vz_min =  1.524\n",
        "g_o    =  9.80665\n",
        "CI     =  30/60\n",
        "\n",
        "# Defs, pag: 3\n",
        "m_o     =  m_I\n",
        "t_o     =  0\n",
        "s_o     =  0\n",
        "lamda_o =  1\n",
        "\n",
        "# Defs (2) pag: 4\n",
        "Ts_o   =  288.15\n",
        "ρ_o    =  1.225\n",
        "L_z    =  -0.0065\n",
        "g_o    =  9.80665\n",
        "R      =  287.05287 \n",
        "a_o    =  -g_o/(R*L_z)"
      ],
      "execution_count": 0,
      "outputs": []
    },
    {
      "cell_type": "code",
      "metadata": {
        "id": "6fURXbeJSY0N",
        "colab_type": "code",
        "colab": {}
      },
      "source": [
        "def Zp(i):\n",
        "    return Zp_I + i*(Zp_F - Zp_I)/(N-1)\n",
        "\n",
        "def F_N_MCL(i):\n",
        "    return 140000.0 - 2.53*(Zp(i)/0.3048)\n",
        "\n",
        "def ρ(i):\n",
        "    return ρ_o * ((Ts_o + L_z*Zp(i))/Ts_o)**(a_o-1)\n",
        "\n",
        "def M(l):\n",
        "    return v[l]/np.sqrt(1.4*R*(Ts_o + L_z * Zp(l)))\n",
        "\n",
        "def CAS(l):\n",
        "    return np.sqrt(7*R*Ts_o*((((Ts_o + L_z*Zp(l))/Ts_o)**a_o * \\\n",
        "            ((1 + v[l]**2/(7*R*(Ts_o+L_z*Zp(l))))**3.5 - 1) + 1)**(1/3.5) - 1))"
      ],
      "execution_count": 0,
      "outputs": []
    },
    {
      "cell_type": "code",
      "metadata": {
        "id": "BJbSDKT8SY0a",
        "colab_type": "code",
        "colab": {}
      },
      "source": [
        "TAS_I = np.sqrt(7*R*(Ts_o + L_z*Zp_I)*((((Ts_o + L_z*Zp_I)/Ts_o)**-a_o * ((1 + CAS_I**2/(7*R*Ts_o))**3.5 - 1) + 1)**(1/3.5) - 1))\n",
        "v_o   = TAS_I\n",
        "N=53; Cz_o = m_o*g_o/(.5*ρ(0)*v_o**2*S_REF)\n",
        "r_o  =  np.arcsin((F_N_MCL(0) - .5 *ρ(0)*v_o**2*S_REF*(Cx_o + k*m_o*g_o/(.5   *ρ(0)*v_o**2*S_REF))) / (m_o*g_o))"
      ],
      "execution_count": 0,
      "outputs": []
    },
    {
      "cell_type": "code",
      "metadata": {
        "id": "8R-std4vSY0q",
        "colab_type": "code",
        "colab": {}
      },
      "source": [
        "ρ_F = ρ_o * ((Ts_o + L_z*Zp_F)/Ts_o)**(a_o-1)\n",
        "v_F = M_CRZ*np.sqrt(1.4*R*(Ts_o + L_z*Zp_F))"
      ],
      "execution_count": 0,
      "outputs": []
    },
    {
      "cell_type": "code",
      "metadata": {
        "id": "rm-4pESMSY04",
        "colab_type": "code",
        "colab": {}
      },
      "source": [
        "def Cz_ip (m_ip): #despejada de Ec2,  pag:3\n",
        "    if i==0: ρo=ρ_o\n",
        "    else:    ρo=ρ(i)\n",
        "    return ((r[i+1]-r[i])*2/(Zp(i+1)-Zp(i)) + g_o/(v[i+1]**2*np.tan(r[i+1])) - .5*ρo*S_REF*Cz[i]/(m[i]*np.sin(r[i]))  \\\n",
        "            + g_o/(v[i]**2*np.tan(r[i])))   *   m_ip*np.sin(r[i+1])/(.5*ρ(i+1)*S_REF)\n",
        "\n",
        "def g_v_i(m_ip):        \n",
        "    return -v[i+1] + v[i]+(Zp(i+1)-Zp(i))/2 * (lamda_ip(m_ip)*F_N_MCL(i+1)/(m_ip*v[i+1]*np.sin(r[i+1])) \\\n",
        "                                        - .5* ρ(i+1) *v[i+1]*S_REF*(Cx_o + k*Cz_ip(m_ip)**2)/(m_ip*np.sin(r[i+1])) \\\n",
        "                                        - g_o/v[i+1] + 𝜆[i]*F_N_MCL(i)/(m[i]*v[i]*np.sin(r[i])) \\\n",
        "                                        - .5 * ρ(i)*v[i]*S_REF*(Cx_o + k*Cz[i]**2)/(m[i]*np.sin(r[i])) \\\n",
        "                                        - g_o/v[i]\n",
        "                                          )\n",
        "def g_s_i(s_ip):\n",
        "    return -s_ip+s[i]+(Zp(i+1)-Zp(i))/2 * (1/np.tan(r[i+1]) + 1/np.tan(r[i]))\n",
        "\n",
        "\n",
        "def g_t_i(t_ip):\n",
        "    return -t_ip+t[i]+(Zp(i+1)-Zp(i))/2 * (1/(v[i+1]*np.sin(r[i+1])) + 1/(v[i]*np.sin(r[i])))\n",
        "\n",
        "\n",
        "def lamda_ip(m_ip):  # lamda <= 1 para todo i ##Despejada de Ec3, pag:3  \n",
        "    return ((m[i] - m_ip)*2/((Zp(i+1)-Zp(i))*eta) - 𝜆[i]*F_N_MCL(i)/(v[i]*np.sin(r[i]))) * v[i+1]*np.sin(r[i+1])/ F_N_MCL(i+1)"
      ],
      "execution_count": 0,
      "outputs": []
    },
    {
      "cell_type": "code",
      "metadata": {
        "id": "WlvP45NzSY1H",
        "colab_type": "code",
        "colab": {}
      },
      "source": [
        "def Θ(N_,_𝑣,r_):\n",
        "    global N, v, r, m, s, t, 𝜆, Cz, i, v_\n",
        "    N=N_; P=True ; v=_𝑣; r=r_; v_=v[N-1]\n",
        "    \n",
        "    m = [m_o]; s=[s_o]; t=[t_o]; 𝜆=[lamda_o]; Cz=[Cz_o]\n",
        "    Cz_i = Cz_o\n",
        "    for i in range (0, N-1, 1):\n",
        "        m.append(newton(g_v_i, m[i])) \n",
        "        Cz.append(Cz_ip (m[i+1]))\n",
        "        𝜆.append(lamda_ip(m[i+1]))\n",
        "        s.append(newton(g_s_i, s[i]))\n",
        "        t.append(newton(g_t_i, t[i]))\n",
        "        \n",
        "        if 𝜆[i+1] > 1 or 𝜆[i+1] < 0 or Cz[i+1] > Cz_max or CAS(i+1) > VMO or M(i+1) > MMO or v[i+1]*np.sin(r[i+1]) < Vz_min:\n",
        "            P=False; break            \n",
        "    return 𝜆[N-1], m[N-1], Cz[N-1], s[N-1], t[N-1], P"
      ],
      "execution_count": 0,
      "outputs": []
    },
    {
      "cell_type": "code",
      "metadata": {
        "id": "hNMsrKneSY1P",
        "colab_type": "code",
        "colab": {}
      },
      "source": [
        "def A(m_):\n",
        "    return -ρ_F*S_REF*Cx_o/(2*m_) - 6*k*m_*g_o**2/(ρ_F*S_REF*v_**4)\n",
        "    \n",
        "def B(m_):\n",
        "    return 16*k*m_*g_o**2/(ρ_F*S_REF*v_**3)\n",
        "\n",
        "def C(m_):\n",
        "    return F_N_MCL(N-1)/m_ - 12*k*m_*g_o**2/(ρ_F*S_REF*v_**2)\n",
        "\n",
        "def D(m_):\n",
        "    if B(m_)**2 - 4*A(m_)*C(m_) >= 0:\n",
        "        return np.sqrt(B(m_)**2 - 4*A(m_)*C(m_))\n",
        "    else:\n",
        "        return np.nan"
      ],
      "execution_count": 0,
      "outputs": []
    },
    {
      "cell_type": "code",
      "metadata": {
        "id": "qry8NxG1SY1f",
        "colab_type": "code",
        "colab": {}
      },
      "source": [
        "def t_B(t_):\n",
        "    if np.absolute((2*A(m_)*v_ + B(m_))/D(m_)) < 1 and np.absolute((2*A(m_)*v_F + B(m_))/D(m_)) < 1:\n",
        "        return t_ + (2/D(m_)) * (np.arctanh((2*A(m_)*v_ + B(m_))/D(m_)) - np.arctanh((2*A(m_)*v_F + B(m_))/D(m_)))\n",
        "    else:\n",
        "        return np.nan\n",
        "\n",
        "def m_B(m_,lamda_):\n",
        "    return m_ - eta*lamda_*F_N_MCL(N-1)*(t_B(t_)-t_)\n",
        "\n",
        "def s_B(s_):\n",
        "    loggint =  (D(m_) - 2*A(m_)*v_F - B(m_))/( D(m_)-2*A(m_)*v_-B(m_))\n",
        "    if loggint >= 0.0:\n",
        "        return s_ + 1/A(m_)*np.log( (D(m_) - 2*A(m_)*v_F - B(m_))/( D(m_)-2*A(m_)*v_-B(m_)) ) - (B(m_)+D(m_))/(2*A(m_))*(t_B(t_)-t_) \n",
        "    else:\n",
        "        return np.nan"
      ],
      "execution_count": 0,
      "outputs": []
    },
    {
      "cell_type": "markdown",
      "metadata": {
        "id": "YA9QIzhFSY1r",
        "colab_type": "text"
      },
      "source": [
        "## Check:"
      ]
    },
    {
      "cell_type": "code",
      "metadata": {
        "id": "HsPI4gkrSY1u",
        "colab_type": "code",
        "outputId": "c25fb014-168a-4d05-ec75-de95a00867d2",
        "colab": {}
      },
      "source": [
        "def Φ():\n",
        "    global v_, m_, Cz_, s_, t_, lamda_\n",
        "    v_, m_, Cz_, s_, t_ , lamda_ = 223.61, 59042, 15, 168717.2, 880.8, 1\n",
        "    t_F = t_B(t_) + (s_F-s_B(s_))/v_F\n",
        "    m_F = m_B(m_,lamda_)*np.exp(-2*eta*g_o*np.sqrt(k*Cx_o)/v_F*(s_F-s_B(s_)))\n",
        "    \n",
        "    print(\"FNMCL_N-1 =\",F_N_MCL(N-1),\"\\nρ_F = \", ρ_F,\"\\nA = \",A(m_),\"\\nB = \",B(m_),\"\\nC = \",C(m_), \"\\nt_B = \", t_B(t_), \\\n",
        "         \"\\nm_B = \", m_B(m_,lamda_), \"\\ns_B = \",s_B(s_), \"\\nm_F = \", m_F, \"\\ntF = \", t_F,\"\\n\")\n",
        "    \n",
        "    return -m_F + CI*(t_B(t_) - s_B(s_)/v_F)\n",
        "\n",
        "print ('\\033[1m' +  '𝜙 = %s' %Φ())"
      ],
      "execution_count": 0,
      "outputs": [
        {
          "output_type": "stream",
          "text": [
            "FNMCL_N-1 = 48920.00000000003 \n",
            "ρ_F =  0.36518323251251555 \n",
            "A =  -3.318141604079352e-05 \n",
            "B =  0.016687802999444994 \n",
            "C =  -1.9701070034643147 \n",
            "t_B =  992.8391410054124 \n",
            "m_B =  58950.650753700254 \n",
            "s_B =  194453.96402237617 \n",
            "m_F =  58358.27165636876 \n",
            "tF =  1863.2367192041615 \n",
            "\n",
            "\u001b[1m𝜙 = -58273.56583785164\n"
          ],
          "name": "stdout"
        }
      ]
    },
    {
      "cell_type": "markdown",
      "metadata": {
        "id": "pzBDxcrjSY2M",
        "colab_type": "text"
      },
      "source": [
        "The following function returns the $\\phi$ value given the vectors $\\nu = (\\nu_0, \\nu_1, \\nu_2, . . ., \\nu_{N-1} )$ and $\\gamma = (\\gamma_0, \\gamma_1, \\gamma_2, . . ., \\gamma_{N-1} )$, for any value of N, i.e $\\phi = \\phi(\\nu, \\gamma)$.\n",
        "\n",
        "With this, then the function really depends on 104 variables for N = 53, since $\\nu_0$ and $\\gamma_0$ are initially calculated, however given this approach there are no values $\\nu_i$ and $\\gamma_i$ for $i > 1$ such that $\\phi$ is real, not even for $N = 3$"
      ]
    },
    {
      "cell_type": "code",
      "metadata": {
        "id": "DUGZGVDFSY2R",
        "colab_type": "code",
        "colab": {}
      },
      "source": [
        "def Φ(V,r_):\n",
        "    global v, r, lamda_, m_, Cz_, s_, t_, P ; P=True ; v=V; r=r_\n",
        "    lamda_, m_, Cz_, s_, t_, P = Θ(N,v,r)\n",
        "    m_F = m_B(m_,lamda_)*np.exp(-2*eta*g_o*np.sqrt(k*Cx_o)/v_F*(s_F-s_B(s_)))\n",
        "    if P == True:\n",
        "        return -m_F + CI*(t_B(t_) - s_B(s_)/v_F)\n",
        "    else:\n",
        "        return np.nan"
      ],
      "execution_count": 0,
      "outputs": []
    },
    {
      "cell_type": "code",
      "metadata": {
        "id": "hZwYInVhSY2f",
        "colab_type": "code",
        "outputId": "4f4438b0-598b-4595-a6b2-3f8aa4b9b0dc",
        "colab": {}
      },
      "source": [
        "N=2\n",
        "Φ((v_o, 220), (r_o, 4*np.pi/180))"
      ],
      "execution_count": 0,
      "outputs": [
        {
          "output_type": "execute_result",
          "data": {
            "text/plain": [
              "-58254.25417531683"
            ]
          },
          "metadata": {
            "tags": []
          },
          "execution_count": 12
        }
      ]
    },
    {
      "cell_type": "code",
      "metadata": {
        "id": "jsGZVB7DSY2s",
        "colab_type": "code",
        "outputId": "59a7bc89-a60d-42f9-c9d3-d5d6cebbbd24",
        "colab": {}
      },
      "source": [
        "N=3\n",
        "v=(v_o,   230            ,   220         )\n",
        "r=(r_o,   3.015*np.pi/180,   5*np.pi/180 )\n",
        "Φ(v,r)"
      ],
      "execution_count": 0,
      "outputs": [
        {
          "output_type": "execute_result",
          "data": {
            "text/plain": [
              "nan"
            ]
          },
          "metadata": {
            "tags": []
          },
          "execution_count": 13
        }
      ]
    },
    {
      "cell_type": "code",
      "metadata": {
        "id": "LT5y0CFwSY3A",
        "colab_type": "code",
        "colab": {}
      },
      "source": [
        "N=2; ZZ={} \n",
        "for u in range(50, 300, 1):\n",
        "    ZZ[u]=[]\n",
        "    for w in range (1, 300, 1):\n",
        "        rr=w*0.1*np.pi/180\n",
        "        aa=Φ((v_o, u), (r_o, rr))\n",
        "        ZZ[u].append(aa)\n",
        "        \n",
        "def ZZZ(X,Y):\n",
        "    return ZZ[X][Y]\n",
        "\n",
        "ZZZ = np.vectorize(ZZZ)\n",
        "X = np.arange(50, 300, 1)\n",
        "Y = np.arange(0, 299, 1)\n",
        "X, Y = np.meshgrid(X, Y)\n",
        "Z = np.array([ZZZ(X,Y)])[0]\n",
        "Y = (Y + 1)*0.1"
      ],
      "execution_count": 0,
      "outputs": []
    },
    {
      "cell_type": "markdown",
      "metadata": {
        "id": "3tO2XEbtSY3N",
        "colab_type": "text"
      },
      "source": [
        "The following is the graph of the $\\phi$ function for $N=2$, where $\\nu_1 [m/s]$ in $X$ and $\\gamma_1 [Grad]$ in $Y$"
      ]
    },
    {
      "cell_type": "code",
      "metadata": {
        "id": "Z6_dpEhPSY3S",
        "colab_type": "code",
        "colab": {}
      },
      "source": [
        "ipv.figure()\n",
        "mesh = ipv.plot_surface(X, Y, Z )\n",
        "ipv.xlim(180, 250)\n",
        "ipv.ylim(0, 8)\n",
        "ipv.zlim(-59000, -57000)\n",
        "ipv.show()"
      ],
      "execution_count": 0,
      "outputs": []
    },
    {
      "cell_type": "markdown",
      "metadata": {
        "id": "rj8Rv2QLpEHA",
        "colab_type": "text"
      },
      "source": [
        "<div>\n",
        "<img src=\"https://raw.githubusercontent.com/maerazor/Aircraft_Climb_Optimization/master/ipyvolume.png\" width=\"700\"/>\n",
        "</div>"
      ]
    },
    {
      "cell_type": "code",
      "metadata": {
        "id": "igbKVYowSY3h",
        "colab_type": "code",
        "outputId": "84bb8f62-adfe-4890-b1c3-cb5cbbd2b430",
        "colab": {}
      },
      "source": [
        "N=2\n",
        "def f(params):\n",
        "    a, b  = params\n",
        "    #global v, r\n",
        "    v=(v_o, a)\n",
        "    r=(r_o, b)\n",
        "    return -Φ(v,r) \n",
        "\n",
        "initial_guess = [190, 1*np.pi/180]\n",
        "result = optimize.minimize(f, initial_guess, method = 'Nelder-Mead')\n",
        "\n",
        "if result.success:\n",
        "    fitted_params = result.x\n",
        "    print(fitted_params)\n",
        "else:\n",
        "    raise ValueError(result.message)"
      ],
      "execution_count": 0,
      "outputs": [
        {
          "output_type": "stream",
          "text": [
            "C:\\ProgramData\\Anaconda3\\lib\\site-packages\\ipykernel_launcher.py:11: RuntimeWarning: divide by zero encountered in double_scalars\n",
            "  # This is added back by InteractiveShellApp.init_path()\n",
            "C:\\ProgramData\\Anaconda3\\lib\\site-packages\\ipykernel_launcher.py:13: RuntimeWarning: divide by zero encountered in double_scalars\n",
            "  del sys.path[0]\n"
          ],
          "name": "stderr"
        },
        {
          "output_type": "stream",
          "text": [
            "[1.8832748e+02 1.7284241e-02]\n"
          ],
          "name": "stdout"
        }
      ]
    },
    {
      "cell_type": "markdown",
      "metadata": {
        "id": "KzFyp4vqSY3v",
        "colab_type": "text"
      },
      "source": [
        "Minimum value of $\\phi$ for N = 2 is where the values of $\\nu_1$ and $\\gamma_1$ are $1.8832748e02$ and $1.7284241e-02$ respectively."
      ]
    },
    {
      "cell_type": "code",
      "metadata": {
        "id": "p-WRcnw9SY30",
        "colab_type": "code",
        "outputId": "37ed20f3-93e4-4410-e6df-3b8e9990f1a6",
        "colab": {}
      },
      "source": [
        "N=2\n",
        "Φ((v_o, 188.32748), (r_o, 0.017284241))  #valor minimo de phi para N=2"
      ],
      "execution_count": 0,
      "outputs": [
        {
          "output_type": "execute_result",
          "data": {
            "text/plain": [
              "-56762.46625254673"
            ]
          },
          "metadata": {
            "tags": []
          },
          "execution_count": 17
        }
      ]
    },
    {
      "cell_type": "markdown",
      "metadata": {
        "id": "8tBwRiigSY4D",
        "colab_type": "text"
      },
      "source": [
        "Thus, just by determining the vectors v and r, all other variables are completely determined."
      ]
    },
    {
      "cell_type": "code",
      "metadata": {
        "id": "_zSCAug4SY4F",
        "colab_type": "code",
        "outputId": "550da00b-2682-48d7-fcf4-7eb76bfed3fb",
        "colab": {}
      },
      "source": [
        "print(\"\\033[1mFor N = 2 \\033[0m\")\n",
        "print(\"𝜈 = \",v)\n",
        "print(\"𝛾 = \",r)\n",
        "print(\"Cz = \",Cz)\n",
        "print(\"m = \",m)\n",
        "print(\"𝜆 = \",𝜆)\n",
        "print(\"s = \",s)\n",
        "print(\"t = \",t)"
      ],
      "execution_count": 0,
      "outputs": [
        {
          "output_type": "stream",
          "text": [
            "\u001b[1mFor N = 2 \u001b[0m\n",
            "𝜈 =  (148.52130232621022, 188.32748)\n",
            "𝛾 =  (0.07652259401812767, 0.017284241)\n",
            "Cz =  [0.4914381674079498, 0.6409684098068081]\n",
            "m =  [60000, 58441.948437762374]\n",
            "𝜆 =  [1, 0.8976028306703161]\n",
            "s =  [0, 280906.13645509206]\n",
            "t =  [0, 1566.3339526820662]\n"
          ],
          "name": "stdout"
        }
      ]
    },
    {
      "cell_type": "code",
      "metadata": {
        "id": "mpAXL_VSSY4g",
        "colab_type": "code",
        "colab": {}
      },
      "source": [
        ""
      ],
      "execution_count": 0,
      "outputs": []
    }
  ]
}