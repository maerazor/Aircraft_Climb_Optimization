{
  "nbformat": 4,
  "nbformat_minor": 0,
  "metadata": {
    "kernelspec": {
      "display_name": "Python 3",
      "language": "python",
      "name": "python3"
    },
    "language_info": {
      "codemirror_mode": {
        "name": "ipython",
        "version": 3
      },
      "file_extension": ".py",
      "mimetype": "text/x-python",
      "name": "python",
      "nbconvert_exporter": "python",
      "pygments_lexer": "ipython3",
      "version": "3.7.3"
    },
    "colab": {
      "name": "Aircraft_Climb_V_Sep_3.ipynb",
      "provenance": [],
      "collapsed_sections": [],
      "include_colab_link": true
    }
  },
  "cells": [
    {
      "cell_type": "markdown",
      "metadata": {
        "id": "view-in-github",
        "colab_type": "text"
      },
      "source": [
        "<a href=\"https://colab.research.google.com/github/maerazor/Aircraft_Climb_Optimization/blob/master/Aircraft_Climb_V_Sep_3.ipynb\" target=\"_parent\"><img src=\"https://colab.research.google.com/assets/colab-badge.svg\" alt=\"Open In Colab\"/></a>"
      ]
    },
    {
      "cell_type": "markdown",
      "metadata": {
        "id": "f3wR6XcASYzJ",
        "colab_type": "text"
      },
      "source": [
        "# Aircraft Climb Optimization \n",
        "(AIRBUS QUANTUM COMPUTING CHALLENGE)\n",
        "---\n",
        "\n",
        "\n",
        "\n",
        "\n",
        "\n"
      ]
    },
    {
      "cell_type": "markdown",
      "metadata": {
        "id": "DXwHr8OJn5B-",
        "colab_type": "text"
      },
      "source": [
        "The focus of this document is to translate the Aircraft Climb Problem into a binary optimization problem. In doing so, the first step is to simplify the problem statement published in September and turned it into the International System of Units.\n",
        "\n",
        "Given the ambiguity of some definitions, in this notebook assumes the following:\n"
      ]
    },
    {
      "cell_type": "markdown",
      "metadata": {
        "id": "uxOcY-apSYzX",
        "colab_type": "text"
      },
      "source": [
        "\\begin{equation}\n",
        "\\rho(0) \\equiv \\rho (Zp_0) \\not \\equiv \\rho_0\n",
        "\\end{equation}\n",
        "\n",
        "\\begin{equation}\n",
        "\\rho_i \\equiv \\rho (Zp_i)  \\space\\space\\space _{(1 \\leq i \\leq N-2)}\n",
        "\\end{equation}\n",
        "\n",
        "\\begin{equation}\n",
        "\\rho_i \\equiv \\rho_0  \\space\\space\\space _{(i = 0)}\n",
        "\\end{equation}\n",
        "\n",
        "\\begin{equation}\n",
        "MACH(\\nu_i,Zp_i) \\equiv M(\\nu,Zp)\n",
        "\\end{equation}"
      ]
    },
    {
      "cell_type": "markdown",
      "metadata": {
        "id": "jHkl519mSYzb",
        "colab_type": "text"
      },
      "source": [
        "The steps followed were as follows:\n",
        "* Isolate $\\lambda_{i+1}$ from the third equation and replaced it in the first one (red arrow).\n",
        "* Isolate $Cz_{i+1}$ from the third equation and cleared it in the first (blue arrow).\n",
        "* Given the values of $\\nu_{i+1}$ and $\\gamma_{i + 1}$,find the value of $m_{i+1}$ such that first relation was satisfied, with this value and with the values $\\nu_{i+1}$ and $\\gamma_{i + 1}$ and also, using the other relations, find $Cz_{i+1}$, $t_{i+1}$, $s_{i+1}$, $\\lambda_{i+1}$.\n",
        "\n",
        "This simplifies the number of variables to optimize."
      ]
    },
    {
      "cell_type": "markdown",
      "metadata": {
        "id": "j6pEstIlneQt",
        "colab_type": "text"
      },
      "source": [
        "<div>\n",
        "<img src=\"https://raw.githubusercontent.com/maerazor/Aircraft_Climb_Optimization/master/Untitled-1.jpg\" width=\"700\"/>\n",
        "</div>"
      ]
    },
    {
      "cell_type": "markdown",
      "metadata": {
        "id": "puDKtTC4yMSh",
        "colab_type": "text"
      },
      "source": [
        "#Numerical implementation"
      ]
    },
    {
      "cell_type": "code",
      "metadata": {
        "id": "nu6zgABoSYzp",
        "colab_type": "code",
        "colab": {}
      },
      "source": [
        "import numpy as np\n",
        "import matplotlib.pyplot as plt\n",
        "from scipy.optimize import newton\n",
        "import scipy.optimize as optimize\n",
        "from matplotlib import cm\n",
        "import ipyvolume as ipv\n",
        "# %matplotlib inline"
      ],
      "execution_count": 0,
      "outputs": []
    },
    {
      "cell_type": "code",
      "metadata": {
        "id": "ZgH9wdzDSY0E",
        "colab_type": "code",
        "colab": {}
      },
      "source": [
        "# Table, pag: 6\n",
        "Cx_o   =  0.014\n",
        "k      =  0.09\n",
        "Cz_max =  0.7\n",
        "S_REF  =  120\n",
        "eta    =  0.06/3600\n",
        "Zp_I   =  3048\n",
        "Zp_F   =  10972.8\n",
        "m_I    =  60000\n",
        "CAS_I  =  128.61111111\n",
        "VMO    =  180.05555555\n",
        "MMO    =  0.82\n",
        "M_CRZ  =  0.80\n",
        "L      =  400000\n",
        "s_F    =  L\n",
        "Vz_min =  1.524\n",
        "g_o    =  9.80665\n",
        "CI     =  30/60\n",
        "\n",
        "# Defs, pag: 3\n",
        "m_o     =  m_I\n",
        "t_o     =  0\n",
        "s_o     =  0\n",
        "lamda_o =  1\n",
        "\n",
        "# Defs (2) pag: 4\n",
        "Ts_o   =  288.15\n",
        "ρ_o    =  1.225\n",
        "L_z    =  -0.0065\n",
        "g_o    =  9.80665\n",
        "R      =  287.05287 \n",
        "a_o    =  -g_o/(R*L_z)"
      ],
      "execution_count": 0,
      "outputs": []
    },
    {
      "cell_type": "code",
      "metadata": {
        "id": "6fURXbeJSY0N",
        "colab_type": "code",
        "colab": {}
      },
      "source": [
        "def Zp(i):\n",
        "    return Zp_I + i*(Zp_F - Zp_I)/(N-1)\n",
        "\n",
        "def F_N_MCL(i):\n",
        "    return 140000.0 - 2.53*(Zp(i)/0.3048)\n",
        "\n",
        "def ρ(i):\n",
        "    return ρ_o * ((Ts_o + L_z*Zp(i))/Ts_o)**(a_o-1)\n",
        "\n",
        "def M(l):\n",
        "    return v[l]/np.sqrt(1.4*R*(Ts_o + L_z * Zp(l)))\n",
        "\n",
        "def CAS(l):\n",
        "    return np.sqrt(7*R*Ts_o*((((Ts_o + L_z*Zp(l))/Ts_o)**a_o * \\\n",
        "            ((1 + v[l]**2/(7*R*(Ts_o+L_z*Zp(l))))**3.5 - 1) + 1)**(1/3.5) - 1))"
      ],
      "execution_count": 0,
      "outputs": []
    },
    {
      "cell_type": "code",
      "metadata": {
        "id": "BJbSDKT8SY0a",
        "colab_type": "code",
        "colab": {}
      },
      "source": [
        "TAS_I = np.sqrt(7*R*(Ts_o + L_z*Zp_I)*((((Ts_o + L_z*Zp_I)/Ts_o)**-a_o * ((1 + CAS_I**2/(7*R*Ts_o))**3.5 - 1) + 1)**(1/3.5) - 1))\n",
        "v_o   = TAS_I\n",
        "N=53; Cz_o = m_o*g_o/(.5*ρ(0)*v_o**2*S_REF)\n",
        "r_o  =  np.arcsin((F_N_MCL(0) - .5 *ρ(0)*v_o**2*S_REF*(Cx_o + k*m_o*g_o/(.5   *ρ(0)*v_o**2*S_REF))) / (m_o*g_o))"
      ],
      "execution_count": 0,
      "outputs": []
    },
    {
      "cell_type": "code",
      "metadata": {
        "id": "8R-std4vSY0q",
        "colab_type": "code",
        "colab": {}
      },
      "source": [
        "ρ_F = ρ_o * ((Ts_o + L_z*Zp_F)/Ts_o)**(a_o-1)\n",
        "v_F = M_CRZ*np.sqrt(1.4*R*(Ts_o + L_z*Zp_F))"
      ],
      "execution_count": 0,
      "outputs": []
    },
    {
      "cell_type": "code",
      "metadata": {
        "id": "rm-4pESMSY04",
        "colab_type": "code",
        "colab": {}
      },
      "source": [
        "def Cz_ip (m_ip): #despejada de Ec2,  pag:3\n",
        "    if i==0: ρo=ρ_o\n",
        "    else:    ρo=ρ(i)\n",
        "    return ((r[i+1]-r[i])*2/(Zp(i+1)-Zp(i)) + g_o/(v[i+1]**2*np.tan(r[i+1])) - .5*ρo*S_REF*Cz[i]/(m[i]*np.sin(r[i]))  \\\n",
        "            + g_o/(v[i]**2*np.tan(r[i])))   *   m_ip*np.sin(r[i+1])/(.5*ρ(i+1)*S_REF)\n",
        "\n",
        "def g_v_i(m_ip):        \n",
        "    return -v[i+1] + v[i]+(Zp(i+1)-Zp(i))/2 * (lamda_ip(m_ip)*F_N_MCL(i+1)/(m_ip*v[i+1]*np.sin(r[i+1])) \\\n",
        "                                        - .5* ρ(i+1) *v[i+1]*S_REF*(Cx_o + k*Cz_ip(m_ip)**2)/(m_ip*np.sin(r[i+1])) \\\n",
        "                                        - g_o/v[i+1] + 𝜆[i]*F_N_MCL(i)/(m[i]*v[i]*np.sin(r[i])) \\\n",
        "                                        - .5 * ρ(i)*v[i]*S_REF*(Cx_o + k*Cz[i]**2)/(m[i]*np.sin(r[i])) \\\n",
        "                                        - g_o/v[i]\n",
        "                                          )\n",
        "def g_s_i(s_ip):\n",
        "    return -s_ip+s[i]+(Zp(i+1)-Zp(i))/2 * (1/np.tan(r[i+1]) + 1/np.tan(r[i]))\n",
        "\n",
        "\n",
        "def g_t_i(t_ip):\n",
        "    return -t_ip+t[i]+(Zp(i+1)-Zp(i))/2 * (1/(v[i+1]*np.sin(r[i+1])) + 1/(v[i]*np.sin(r[i])))\n",
        "\n",
        "\n",
        "def lamda_ip(m_ip):  # lamda <= 1 para todo i ##Despejada de Ec3, pag:3  \n",
        "    return ((m[i] - m_ip)*2/((Zp(i+1)-Zp(i))*eta) - 𝜆[i]*F_N_MCL(i)/(v[i]*np.sin(r[i]))) * v[i+1]*np.sin(r[i+1])/ F_N_MCL(i+1)"
      ],
      "execution_count": 0,
      "outputs": []
    },
    {
      "cell_type": "markdown",
      "metadata": {
        "id": "z7v7B2THyagn",
        "colab_type": "text"
      },
      "source": [
        "Define function to optimize"
      ]
    },
    {
      "cell_type": "code",
      "metadata": {
        "id": "WlvP45NzSY1H",
        "colab_type": "code",
        "colab": {}
      },
      "source": [
        "def Θ(N_,_𝑣,r_):\n",
        "    global N, v, r, m, s, t, 𝜆, Cz, i, v_, P\n",
        "    N=N_; P=True ; v=_𝑣; r=r_; v_=v[N-1]\n",
        "    \n",
        "    m = [m_o]; s=[s_o]; t=[t_o]; 𝜆=[lamda_o]; Cz=[Cz_o]\n",
        "    Cz_i = Cz_o\n",
        "    for i in range (0, N-1, 1):\n",
        "        if v[i+1]*np.sin(r[i+1]) < Vz_min or CAS(i+1) > VMO: P=False; break  \n",
        "            \n",
        "        m.append(newton(g_v_i, m[i]))\n",
        "        Cz.append(Cz_ip (m[i+1]))\n",
        "        𝜆.append(lamda_ip(m[i+1]))\n",
        "        s.append(newton(g_s_i, s[i]))\n",
        "        t.append(newton(g_t_i, t[i]))\n",
        "        \n",
        "        if 𝜆[i+1] > 1 or 𝜆[i+1] < 0 or Cz[i+1] > Cz_max or M(i+1) > MMO:\n",
        "            P=False; break\n",
        "    return"
      ],
      "execution_count": 0,
      "outputs": []
    },
    {
      "cell_type": "code",
      "metadata": {
        "id": "hNMsrKneSY1P",
        "colab_type": "code",
        "colab": {}
      },
      "source": [
        "def A(m_):\n",
        "    return -ρ_F*S_REF*Cx_o/(2*m_) - 6*k*m_*g_o**2/(ρ_F*S_REF*v_**4)\n",
        "    \n",
        "def B(m_):\n",
        "    return 16*k*m_*g_o**2/(ρ_F*S_REF*v_**3)\n",
        "\n",
        "def C(m_):\n",
        "    return F_N_MCL(N-1)/m_ - 12*k*m_*g_o**2/(ρ_F*S_REF*v_**2)\n",
        "\n",
        "def D(m_):\n",
        "    if B(m_)**2 - 4*A(m_)*C(m_) >= 0:\n",
        "        return np.sqrt(B(m_)**2 - 4*A(m_)*C(m_))\n",
        "    else:\n",
        "        return np.nan"
      ],
      "execution_count": 0,
      "outputs": []
    },
    {
      "cell_type": "code",
      "metadata": {
        "id": "qry8NxG1SY1f",
        "colab_type": "code",
        "colab": {}
      },
      "source": [
        "def t_B(t_):\n",
        "    if np.absolute((2*A(m_)*v_ + B(m_))/D(m_)) < 1 and np.absolute((2*A(m_)*v_F + B(m_))/D(m_)) < 1:\n",
        "        return t_ + (2/D(m_)) * (np.arctanh((2*A(m_)*v_ + B(m_))/D(m_)) - np.arctanh((2*A(m_)*v_F + B(m_))/D(m_)))\n",
        "    else:\n",
        "        return np.nan\n",
        "\n",
        "def m_B(m_,lamda_):\n",
        "    return m_ - eta*lamda_*F_N_MCL(N-1)*(t_B(t_)-t_)\n",
        "\n",
        "def s_B(s_):\n",
        "    loggint =  (D(m_) - 2*A(m_)*v_F - B(m_))/( D(m_)-2*A(m_)*v_-B(m_))\n",
        "    if loggint >= 0.0:\n",
        "        return s_ + 1/A(m_)*np.log( (D(m_) - 2*A(m_)*v_F - B(m_))/( D(m_)-2*A(m_)*v_-B(m_)) ) - (B(m_)+D(m_))/(2*A(m_))*(t_B(t_)-t_) \n",
        "    else:\n",
        "        return np.nan"
      ],
      "execution_count": 0,
      "outputs": []
    },
    {
      "cell_type": "markdown",
      "metadata": {
        "id": "YA9QIzhFSY1r",
        "colab_type": "text"
      },
      "source": [
        "## Check:"
      ]
    },
    {
      "cell_type": "code",
      "metadata": {
        "id": "HsPI4gkrSY1u",
        "colab_type": "code",
        "outputId": "65a81099-8a09-4b5f-a96b-9df318d43b19",
        "colab": {
          "base_uri": "https://localhost:8080/",
          "height": 221
        }
      },
      "source": [
        "def Φ_():\n",
        "    global v_, m_, Cz_, s_, t_, lamda_\n",
        "    v_, m_, Cz_, s_, t_ , lamda_ = 223.61, 59042, 15, 168717.2, 880.8, 1\n",
        "    t_F = t_B(t_) + (s_F-s_B(s_))/v_F\n",
        "    m_F = m_B(m_,lamda_)*np.exp(-2*eta*g_o*np.sqrt(k*Cx_o)/v_F*(s_F-s_B(s_)))\n",
        "    \n",
        "    print(\"FNMCL_N-1 =\",F_N_MCL(N-1),\"\\nρ_F = \", ρ_F,\"\\nA = \",A(m_),\"\\nB = \",B(m_),\"\\nC = \",C(m_), \"\\nt_B = \", t_B(t_), \\\n",
        "         \"\\nm_B = \", m_B(m_,lamda_), \"\\ns_B = \",s_B(s_), \"\\nm_F = \", m_F, \"\\ntF = \", t_F,\"\\n\")\n",
        "    \n",
        "    return -m_F + CI*(t_B(t_) - s_B(s_)/v_F)\n",
        "\n",
        "print ('\\033[1m' +  '𝜙 = %s' %Φ_())"
      ],
      "execution_count": 0,
      "outputs": [
        {
          "output_type": "stream",
          "text": [
            "FNMCL_N-1 = 48920.00000000003 \n",
            "ρ_F =  0.36518323251251555 \n",
            "A =  -3.318141604079352e-05 \n",
            "B =  0.016687802999444994 \n",
            "C =  -1.9701070034643147 \n",
            "t_B =  992.8391410054126 \n",
            "m_B =  58950.650753700254 \n",
            "s_B =  194453.9640223762 \n",
            "m_F =  58358.27165636876 \n",
            "tF =  1863.2367192041615 \n",
            "\n",
            "\u001b[1m𝜙 = -58273.56583785164\n"
          ],
          "name": "stdout"
        }
      ]
    },
    {
      "cell_type": "markdown",
      "metadata": {
        "id": "pzBDxcrjSY2M",
        "colab_type": "text"
      },
      "source": [
        "The following function returns the $\\phi$ value given the vectors $\\nu = (\\nu_0, \\nu_1, \\nu_2, . . ., \\nu_{N-1} )$ and $\\gamma = (\\gamma_0, \\gamma_1, \\gamma_2, . . ., \\gamma_{N-1} )$, for any value of N, i.e $\\phi = \\phi(\\nu, \\gamma)$.\n",
        "\n",
        "With this, then the function really depends on 104 variables for $N = 53$, since $\\nu_0$ and $\\gamma_0$ are initially calculated. We consider that this is an advantage of our propopsal.\n",
        "\n",
        "However, we verify for $N \\ge 3$ and no real values for $\\phi$ were found. We discussbelow the reasons for that. After a number of checks, we assume that there are issues with the definitions of the variables. Below, we ellaborate on this."
      ]
    },
    {
      "cell_type": "code",
      "metadata": {
        "id": "DUGZGVDFSY2R",
        "colab_type": "code",
        "colab": {}
      },
      "source": [
        "def Φ(V,r_):\n",
        "    global v, r, lamda_, m_, Cz_, s_, t_, P ; P=True ; v=V; r=r_ ; Θ(N,v,r)\n",
        "    if P == True:\n",
        "        lamda_, m_, Cz_, s_, t_ = 𝜆[N-1], m[N-1], Cz[N-1], s[N-1], t[N-1]\n",
        "        m_F = m_B(m_,lamda_)*np.exp(-2*eta*g_o*np.sqrt(k*Cx_o)/v_F*(s_F-s_B(s_)))\n",
        "        return -m_F + CI*(t_B(t_) - s_B(s_)/v_F)\n",
        "    else:\n",
        "        return np.nan"
      ],
      "execution_count": 0,
      "outputs": []
    },
    {
      "cell_type": "code",
      "metadata": {
        "id": "hZwYInVhSY2f",
        "colab_type": "code",
        "outputId": "1f82366e-74f0-4996-cf43-ed85a6e233f5",
        "colab": {
          "base_uri": "https://localhost:8080/",
          "height": 34
        }
      },
      "source": [
        "N=2\n",
        "Φ((v_o, 220), (r_o, 4*np.pi/180))"
      ],
      "execution_count": 0,
      "outputs": [
        {
          "output_type": "execute_result",
          "data": {
            "text/plain": [
              "-58254.25417531683"
            ]
          },
          "metadata": {
            "tags": []
          },
          "execution_count": 12
        }
      ]
    },
    {
      "cell_type": "code",
      "metadata": {
        "id": "jsGZVB7DSY2s",
        "colab_type": "code",
        "outputId": "e161e5f7-1165-4093-ca5b-ac29bcd93a72",
        "colab": {
          "base_uri": "https://localhost:8080/",
          "height": 34
        }
      },
      "source": [
        "N=3\n",
        "v=(v_o,   230            ,   220         )\n",
        "r=(r_o,   3.015*np.pi/180,   5*np.pi/180 )\n",
        "Φ(v,r)"
      ],
      "execution_count": 0,
      "outputs": [
        {
          "output_type": "execute_result",
          "data": {
            "text/plain": [
              "nan"
            ]
          },
          "metadata": {
            "tags": []
          },
          "execution_count": 13
        }
      ]
    },
    {
      "cell_type": "code",
      "metadata": {
        "id": "LT5y0CFwSY3A",
        "colab_type": "code",
        "colab": {}
      },
      "source": [
        "#***\n",
        "N=2; ZZ={} \n",
        "for u in range(50, 300, 1):\n",
        "    ZZ[u]=[]\n",
        "    for w in range (1, 300, 1):\n",
        "        rr=w*0.1*np.pi/180\n",
        "        aa=Φ((v_o, u), (r_o, rr))\n",
        "        ZZ[u].append(aa)\n",
        "        \n",
        "def ZZZ(X,Y):\n",
        "    return ZZ[X][Y]\n",
        "\n",
        "ZZZ = np.vectorize(ZZZ)\n",
        "X = np.arange(50, 300, 1)\n",
        "Y = np.arange(0, 299, 1)\n",
        "X, Y = np.meshgrid(X, Y)\n",
        "Z = np.array([ZZZ(X,Y)])[0]\n",
        "Y = (Y + 1)*0.1"
      ],
      "execution_count": 0,
      "outputs": []
    },
    {
      "cell_type": "markdown",
      "metadata": {
        "id": "3tO2XEbtSY3N",
        "colab_type": "text"
      },
      "source": [
        "The figure below depicts the $\\phi$ function for $N=2$, where $\\nu_1 [m/s]$ in $X$-axis and $\\gamma_1 [\\mathrm{Grad}]$ in $Y$-axis. The figure allows for inspecting the landscape to optimize."
      ]
    },
    {
      "cell_type": "code",
      "metadata": {
        "id": "Z6_dpEhPSY3S",
        "colab_type": "code",
        "colab": {}
      },
      "source": [
        "#***\n",
        "ipv.figure()\n",
        "mesh = ipv.plot_surface(X, Y, Z )\n",
        "ipv.xlim(180, 250)\n",
        "ipv.ylim(0, 8)\n",
        "ipv.zlim(-59000, -57000)\n",
        "ipv.show()"
      ],
      "execution_count": 0,
      "outputs": []
    },
    {
      "cell_type": "markdown",
      "metadata": {
        "id": "rj8Rv2QLpEHA",
        "colab_type": "text"
      },
      "source": [
        "<div>\n",
        "<img src=\"https://raw.githubusercontent.com/maerazor/Aircraft_Climb_Optimization/master/ipyvolume.png\" width=\"700\"/>\n",
        "</div>"
      ]
    },
    {
      "cell_type": "markdown",
      "metadata": {
        "id": "5Fs_pnnQ054m",
        "colab_type": "text"
      },
      "source": [
        "## First Classical Optimization "
      ]
    },
    {
      "cell_type": "code",
      "metadata": {
        "id": "igbKVYowSY3h",
        "colab_type": "code",
        "outputId": "e093c440-92e6-4aaf-bd69-403f8ff8e583",
        "colab": {
          "base_uri": "https://localhost:8080/",
          "height": 102
        }
      },
      "source": [
        "N=2\n",
        "def f(params):\n",
        "    a, b  = params\n",
        "    #global v, r\n",
        "    v=(v_o, a)\n",
        "    r=(r_o, b)\n",
        "    return -Φ(v,r) \n",
        "\n",
        "initial_guess = [190, 1*np.pi/180]\n",
        "result = optimize.minimize(f, initial_guess, method = 'Nelder-Mead')\n",
        "\n",
        "if result.success:\n",
        "    fitted_params = result.x\n",
        "    print(fitted_params)\n",
        "else:\n",
        "    raise ValueError(result.message)"
      ],
      "execution_count": 0,
      "outputs": [
        {
          "output_type": "stream",
          "text": [
            "[1.8832748e+02 1.7284241e-02]\n"
          ],
          "name": "stdout"
        },
        {
          "output_type": "stream",
          "text": [
            "/usr/local/lib/python3.6/dist-packages/ipykernel_launcher.py:11: RuntimeWarning: divide by zero encountered in double_scalars\n",
            "  # This is added back by InteractiveShellApp.init_path()\n",
            "/usr/local/lib/python3.6/dist-packages/ipykernel_launcher.py:13: RuntimeWarning: divide by zero encountered in double_scalars\n",
            "  del sys.path[0]\n"
          ],
          "name": "stderr"
        }
      ]
    },
    {
      "cell_type": "markdown",
      "metadata": {
        "id": "KzFyp4vqSY3v",
        "colab_type": "text"
      },
      "source": [
        "The minimum value of $\\phi$ for $N = 2$ is for $\\nu_1$ and $\\gamma_1$ are $1.8832748 \\times 10 {-02}$ and $1.7284241 \\times 10 {-02}$, respectively."
      ]
    },
    {
      "cell_type": "code",
      "metadata": {
        "id": "p-WRcnw9SY30",
        "colab_type": "code",
        "outputId": "b2075f5a-65be-4ba6-f206-0f08db0e0de6",
        "colab": {
          "base_uri": "https://localhost:8080/",
          "height": 34
        }
      },
      "source": [
        "N=2\n",
        "Φ((v_o, 188.32748), (r_o, 0.017284241))  #valor minimo de phi para N=2"
      ],
      "execution_count": 0,
      "outputs": [
        {
          "output_type": "execute_result",
          "data": {
            "text/plain": [
              "-56762.46625254673"
            ]
          },
          "metadata": {
            "tags": []
          },
          "execution_count": 15
        }
      ]
    },
    {
      "cell_type": "markdown",
      "metadata": {
        "id": "8tBwRiigSY4D",
        "colab_type": "text"
      },
      "source": [
        "Thus, just by determining the vectors $v$ and $r$, all other variables are completely determined."
      ]
    },
    {
      "cell_type": "code",
      "metadata": {
        "id": "_zSCAug4SY4F",
        "colab_type": "code",
        "outputId": "fe42c8ce-93ac-4f6f-f3eb-5ef33e4f0bfa",
        "colab": {
          "base_uri": "https://localhost:8080/",
          "height": 153
        }
      },
      "source": [
        "print(\"\\033[1mFor N = 2 \\033[0m\")\n",
        "print(\"𝜈 = \",v)\n",
        "print(\"𝛾 = \",r)\n",
        "print(\"Cz = \",Cz)\n",
        "print(\"m = \",m)\n",
        "print(\"𝜆 = \",𝜆)\n",
        "print(\"s = \",s)\n",
        "print(\"t = \",t)"
      ],
      "execution_count": 0,
      "outputs": [
        {
          "output_type": "stream",
          "text": [
            "\u001b[1mFor N = 2 \u001b[0m\n",
            "𝜈 =  (148.52130232621022, 188.32748)\n",
            "𝛾 =  (0.07652259401812767, 0.017284241)\n",
            "Cz =  [0.4914381674079498, 0.6409684098068081]\n",
            "m =  [60000, 58441.948437762374]\n",
            "𝜆 =  [1, 0.8976028306703161]\n",
            "s =  [0, 280906.13645509206]\n",
            "t =  [0, 1566.3339526820662]\n"
          ],
          "name": "stdout"
        }
      ]
    },
    {
      "cell_type": "markdown",
      "metadata": {
        "id": "EMNhhPw610LE",
        "colab_type": "text"
      },
      "source": [
        "#Formulation of the Quadratic Binary Problem"
      ]
    },
    {
      "cell_type": "markdown",
      "metadata": {
        "id": "5Lcvjb6j6_oj",
        "colab_type": "text"
      },
      "source": [
        "In the following, $\\phi$ is discretize for $N=2$ to formulate a QUBO (Quadratic Unconstrained Binary Optimization) type of approach.\n",
        "\n",
        "\\begin{equation}\n",
        "\\min  \\space x^TQx \\space \n",
        "\\end{equation}\n",
        "with\n",
        "\n",
        "\\begin{equation}\n",
        "{\\displaystyle x_{i}\\in \\{0,1\\}} \\space and \\space {\\displaystyle c_{i},Q_{ij}\\in R}\n",
        "\\end{equation}\n",
        "\n",
        "\n",
        "The approach is free of constraints because it will be done for a $\\nu_1$ from $192$ to $242$ and for a $\\gamma_1$ from $1°$ to $9°$. These are the intervals of existence of the $\\phi$ function after constraints (see above). \n",
        "\n",
        "The coding will be for $\\nu_1$ with $50/2^{15}$ and for gamma of $(9°-1°)/2^{15}$.\n",
        "\n",
        "The return of the decoding function will have 8 decimals."
      ]
    },
    {
      "cell_type": "code",
      "metadata": {
        "id": "mpAXL_VSSY4g",
        "colab_type": "code",
        "colab": {}
      },
      "source": [
        "# Φ_for_min() is a function that returns the absolute value of Φ and the points  \n",
        "# where Φ does not exist. It returns a very high value (99999) so that it does not \n",
        "# interfere with minimization.\n",
        "\n",
        "def Φ_for_min(ve,re):\n",
        "    a=np.absolute(Φ(ve,re))\n",
        "    if np.isnan(a):\n",
        "        return 99999\n",
        "    else:\n",
        "        return a"
      ],
      "execution_count": 0,
      "outputs": []
    },
    {
      "cell_type": "code",
      "metadata": {
        "id": "r1VB6Pt9nnom",
        "colab_type": "code",
        "colab": {}
      },
      "source": [
        "# Function that returns the value of the number in binary, in list format and \n",
        "# in word size 15\n",
        "\n",
        "def binL(x,leng=15): \n",
        "    xx = [int(d) for d in bin(int(x))[2:]]\n",
        "    rr = [0]*(leng-len(xx)) + xx\n",
        "    return rr[0:leng]\n",
        "\n",
        "# Function that returns a binary of word size 30 from 0 to 1073741823 in list \n",
        "# format, for input values for the first parameter from 192 to 242 and for the \n",
        "# second parameter from 1° to 9° but entered in rad.\n",
        "\n",
        "#The returned binary contains in 15 of its bits the encoded value of v1 and in \n",
        "#the other 15 bits the encoded value of r1\n",
        "\n",
        "# This function will be used to encode the variables v1 and r1\n",
        "def codebin(v1,r1):    \n",
        "    return binL((v1-192)*655.34) + binL((r1*100000-1727)*2.34368070953436807095)\n",
        "\n",
        "# Function that decodes the binary returned in the previous function and returns \n",
        "# two values\n",
        "def decodebin(x):\n",
        "    a=[''.join(map(str, x[0:15]))]\n",
        "\n",
        "    for i in range (int(len(x)/15-1)):\n",
        "        a += [''.join(map(str, x[(i+1)*15:(i+2)*15]))]\n",
        "\n",
        "    for i in range (int(len(x)/15)):\n",
        "        a[i] = ((int(a[i],2)/(655.34**((i+1)%2)))/(2.34368070953436807095**(i%2)) \\\n",
        "                + 192*((i+1)%2) + 1727*((i)%2))/(100000**(i%2))\n",
        "        a[i] = round(a[i],8)\n",
        "    return a\n",
        "\n",
        "# Returns a word size binary 30 in list format, with the only bits in one at \n",
        "# positions a, b which are the input parameters of the function\n",
        "def bin_cost(a,b):\n",
        "    c = [0]*30\n",
        "    c[a]=1; c[b]=1\n",
        "    return c"
      ],
      "execution_count": 0,
      "outputs": []
    },
    {
      "cell_type": "markdown",
      "metadata": {
        "id": "brmoV_gSbvP2",
        "colab_type": "text"
      },
      "source": [
        "### Exmple: Binarization of a particular tupla"
      ]
    },
    {
      "cell_type": "code",
      "metadata": {
        "id": "zy_gw98eocVb",
        "colab_type": "code",
        "outputId": "c35b632c-ac8b-483b-a5f5-97ea7e200b4d",
        "colab": {
          "base_uri": "https://localhost:8080/",
          "height": 34
        }
      },
      "source": [
        "decodebin(codebin(213.24 , 0.117))"
      ],
      "execution_count": 0,
      "outputs": [
        {
          "output_type": "execute_result",
          "data": {
            "text/plain": [
              "[213.23935667, 0.11699775]"
            ]
          },
          "metadata": {
            "tags": []
          },
          "execution_count": 37
        }
      ]
    },
    {
      "cell_type": "code",
      "metadata": {
        "id": "bYP-VnjLb5DM",
        "colab_type": "code",
        "colab": {}
      },
      "source": [
        ""
      ],
      "execution_count": 0,
      "outputs": []
    },
    {
      "cell_type": "code",
      "metadata": {
        "id": "hsA6sdVDAHlC",
        "colab_type": "code",
        "outputId": "f7f61f1a-6d0e-4acf-b120-a4838bb99176",
        "colab": {
          "base_uri": "https://localhost:8080/",
          "height": 34
        }
      },
      "source": [
        "print(codebin(192 , 0.9894*np.pi/180))"
      ],
      "execution_count": 0,
      "outputs": [
        {
          "output_type": "stream",
          "text": [
            "[0, 0, 0, 0, 0, 0, 0, 0, 0, 0, 0, 0, 0, 0, 0, 0, 0, 0, 0, 0, 0, 0, 0, 0, 0, 0, 0, 0, 0, 0]\n"
          ],
          "name": "stdout"
        }
      ]
    },
    {
      "cell_type": "code",
      "metadata": {
        "id": "bPImBi_KAW0G",
        "colab_type": "code",
        "outputId": "7520320f-7e4f-4884-f90c-5666f4ca8b86",
        "colab": {
          "base_uri": "https://localhost:8080/",
          "height": 34
        }
      },
      "source": [
        "print(codebin(242 , 9.0001*np.pi/180))"
      ],
      "execution_count": 0,
      "outputs": [
        {
          "output_type": "stream",
          "text": [
            "[1, 1, 1, 1, 1, 1, 1, 1, 1, 1, 1, 1, 1, 1, 1, 1, 1, 1, 1, 1, 1, 1, 1, 1, 1, 1, 1, 1, 1, 1]\n"
          ],
          "name": "stdout"
        }
      ]
    },
    {
      "cell_type": "code",
      "metadata": {
        "id": "63I6LPz2AX_4",
        "colab_type": "code",
        "colab": {}
      },
      "source": [
        "def QD():\n",
        "    global N; N=2\n",
        "    Q_= np.identity((N-1)*30)\n",
        "    for i in range ((N-1)*30):\n",
        "        Q_[i,i] = Φ_for_min((v_o, decodebin(binL(2**i,30))[0]), (r_o, decodebin(binL(2**i,30))[1]))\n",
        "        \n",
        "        for j in range ((N-1)*30):\n",
        "            if i<j:\n",
        "                Q_[i,j] = Φ_for_min(((v_o, decodebin(bin_cost(i,j))[0])), (r_o, decodebin(bin_cost(i,j))[1])) \\\n",
        "                -(Q_[i,i]+Q_[j,j])\n",
        "    return Q_\n",
        "Aq=QD()"
      ],
      "execution_count": 0,
      "outputs": []
    },
    {
      "cell_type": "code",
      "metadata": {
        "id": "TvN13kAwAp1z",
        "colab_type": "code",
        "colab": {}
      },
      "source": [
        "Q = { (i,i) : Aq[i,i] for i in range(0, len(Aq) )} \n",
        "for j in range(30):\n",
        "    for i in range(j):\n",
        "        Q.update({(i,j) : Aq[i,j]})"
      ],
      "execution_count": 0,
      "outputs": []
    },
    {
      "cell_type": "markdown",
      "metadata": {
        "id": "LArSOcVn73I2",
        "colab_type": "text"
      },
      "source": [
        "The Q function is the core of the quantum/classical binary optimzation problem. After having this matrix, it is straightforward to implement a solution in a quantum computing platform. Below, we breifly discuss the optimization part with the D-Wave Ocean Software"
      ]
    },
    {
      "cell_type": "code",
      "metadata": {
        "id": "JqcvsyGYAvqN",
        "colab_type": "code",
        "outputId": "ecbb4881-4f5a-43db-b11e-5dafe14fe28f",
        "colab": {
          "base_uri": "https://localhost:8080/",
          "height": 1000
        }
      },
      "source": [
        "Q"
      ],
      "execution_count": 0,
      "outputs": [
        {
          "output_type": "execute_result",
          "data": {
            "text/plain": [
              "{(0, 0): 57834.31148344408,\n",
              " (0, 1): 437.2800655898682,\n",
              " (0, 2): 399.3808859165001,\n",
              " (0, 3): 377.48359787365916,\n",
              " (0, 4): 365.70149267586385,\n",
              " (0, 5): 359.587765377677,\n",
              " (0, 6): 356.47326592301397,\n",
              " (0, 7): 354.9013486917611,\n",
              " (0, 8): 354.1116900104462,\n",
              " (0, 9): 353.7159314911696,\n",
              " (0, 10): 353.5178193573229,\n",
              " (0, 11): 353.41870505624684,\n",
              " (0, 12): 353.3691332475137,\n",
              " (0, 13): 353.34434373846307,\n",
              " (0, 14): 353.33194811308203,\n",
              " (0, 15): 399.483603747547,\n",
              " (0, 16): 423.9687685140889,\n",
              " (0, 17): 413.91271938399586,\n",
              " (0, 18): 395.3682501828662,\n",
              " (0, 19): 378.87472791927576,\n",
              " (0, 20): 367.57694215925585,\n",
              " (0, 21): 360.87860064708366,\n",
              " (0, 22): 357.21573711907695,\n",
              " (0, 23): 355.2980240026154,\n",
              " (0, 24): 354.31659193478845,\n",
              " (0, 25): 353.82003502764564,\n",
              " (0, 26): 353.57025021639856,\n",
              " (0, 27): 353.44506139840087,\n",
              " (0, 28): 353.3823008115651,\n",
              " (0, 29): 353.3509708267884,\n",
              " (1, 1): 57834.399508355185,\n",
              " (1, 2): 296.87396048327355,\n",
              " (1, 3): 263.8370678341598,\n",
              " (1, 4): 245.84641820086836,\n",
              " (1, 5): 236.43869950509543,\n",
              " (1, 6): 231.62505046355363,\n",
              " (1, 7): 229.18985101128055,\n",
              " (1, 8): 227.96503513960488,\n",
              " (1, 9): 227.3508074958154,\n",
              " (1, 10): 227.04323667342396,\n",
              " (1, 11): 226.88933683974028,\n",
              " (1, 12): 226.81235814390675,\n",
              " (1, 13): 226.7738616918723,\n",
              " (1, 14): 226.754611736651,\n",
              " (1, 15): 384.61199698820565,\n",
              " (1, 16): 390.37032285265013,\n",
              " (1, 17): 353.51299088109226,\n",
              " (1, 18): 311.12742532756965,\n",
              " (1, 19): 277.0730489445559,\n",
              " (1, 20): 254.5750000662083,\n",
              " (1, 21): 241.43412358855858,\n",
              " (1, 22): 234.2962495789252,\n",
              " (1, 23): 230.57092838123936,\n",
              " (1, 24): 228.6673169824935,\n",
              " (1, 25): 227.7049036572862,\n",
              " (1, 26): 227.22095723676466,\n",
              " (1, 27): 226.97845459151722,\n",
              " (1, 28): 226.85689258277853,\n",
              " (1, 29): 226.796211818335,\n",
              " (2, 2): 57834.57584838737,\n",
              " (2, 3): 184.39374684810173,\n",
              " (2, 4): 160.9348616628631,\n",
              " (2, 5): 148.48777881884598,\n",
              " (2, 6): 142.0638237867097,\n",
              " (2, 7): 138.79861559032724,\n",
              " (2, 8): 137.15227435555425,\n",
              " (2, 9): 136.32561316448118,\n",
              " (2, 10): 135.91140259474196,\n",
              " (2, 11): 135.70407633793366,\n",
              " (2, 12): 135.60035795765725,\n",
              " (2, 13): 135.54848491891607,\n",
              " (2, 14): 135.5225450205835,\n",
              " (2, 15): 363.5729365942607,\n",
              " (2, 16): 355.36503632419044,\n",
              " (2, 17): 300.7789981312235,\n",
              " (2, 18): 243.9472654910278,\n",
              " (2, 19): 199.7486902122473,\n",
              " (2, 20): 170.91951716942276,\n",
              " (2, 21): 154.1711229343855,\n",
              " (2, 22): 145.09560437340406,\n",
              " (2, 23): 140.3643503764033,\n",
              " (2, 24): 137.94803040628904,\n",
              " (2, 25): 136.72673202676378,\n",
              " (2, 26): 136.11268732362078,\n",
              " (2, 27): 135.8050134584264,\n",
              " (2, 28): 135.65078740695026,\n",
              " (2, 29): 135.57380281780206,\n",
              " (3, 3): 57834.92762468031,\n",
              " (3, 4): 107.26337969515589,\n",
              " (3, 5): 92.19535300799907,\n",
              " (3, 6): 84.32803758697264,\n",
              " (3, 7): 80.30278413783526,\n",
              " (3, 8): 78.26607142941066,\n",
              " (3, 9): 77.2415340798907,\n",
              " (3, 10): 76.72769931217044,\n",
              " (3, 11): 76.4703876869753,\n",
              " (3, 12): 76.34163311281009,\n",
              " (3, 13): 76.27723106715712,\n",
              " (3, 14): 76.24502395497984,\n",
              " (3, 15): 340.60418574792857,\n",
              " (3, 16): 324.66034668559587,\n",
              " (3, 17): 260.06717465117254,\n",
              " (3, 18): 195.9379916529506,\n",
              " (3, 19): 146.9185078103037,\n",
              " (3, 20): 115.14290143152175,\n",
              " (3, 21): 96.72495448803966,\n",
              " (3, 22): 86.75378214658122,\n",
              " (3, 23): 81.55762477912504,\n",
              " (3, 24): 78.90434320527129,\n",
              " (3, 25): 77.56338897351816,\n",
              " (3, 26): 76.88921145673521,\n",
              " (3, 27): 76.55141425206239,\n",
              " (3, 28): 76.38209014374297,\n",
              " (3, 29): 76.29756952496246,\n",
              " (4, 4): 57835.629632003,\n",
              " (4, 5): 58.43913267015887,\n",
              " (4, 6): 49.42234383120376,\n",
              " (4, 7): 44.7775411262337,\n",
              " (4, 8): 42.418624143065244,\n",
              " (4, 9): 41.22970494584297,\n",
              " (4, 10): 40.632836656004656,\n",
              " (4, 11): 40.333794879981724,\n",
              " (4, 12): 40.184121347214386,\n",
              " (4, 13): 40.10924633075774,\n",
              " (4, 14): 40.071799126169935,\n",
              " (4, 15): 317.96226288939215,\n",
              " (4, 16): 299.4881297626998,\n",
              " (4, 17): 230.5511820230895,\n",
              " (4, 18): 163.7428226850243,\n",
              " (4, 19): 113.05129186453996,\n",
              " (4, 20): 80.23947572392353,\n",
              " (4, 21): 61.221203761211655,\n",
              " (4, 22): 50.92311010653066,\n",
              " (4, 23): 45.555820592278906,\n",
              " (4, 24): 42.81492414126842,\n",
              " (4, 25): 41.42962709773565,\n",
              " (4, 26): 40.73313948332361,\n",
              " (4, 27): 40.384159625988104,\n",
              " (4, 28): 40.20922905382031,\n",
              " (4, 29): 40.121909622699604,\n",
              " (5, 5): 57837.02566377748,\n",
              " (5, 6): 28.8305739717689,\n",
              " (5, 7): 23.750996769340418,\n",
              " (5, 8): 21.163539393397514,\n",
              " (5, 9): 19.857371061494632,\n",
              " (5, 10): 19.201107611501357,\n",
              " (5, 11): 18.872172324081475,\n",
              " (5, 12): 18.707502355879114,\n",
              " (5, 13): 18.625116850620543,\n",
              " (5, 14): 18.5839115511626,\n",
              " (5, 15): 296.745117589031,\n",
              " (5, 16): 279.7063143421037,\n",
              " (5, 17): 210.059255742839,\n",
              " (5, 18): 142.97957049736578,\n",
              " (5, 19): 92.06939697980124,\n",
              " (5, 20): 59.06106581859058,\n",
              " (5, 21): 39.90479552587931,\n",
              " (5, 22): 29.524357242429687,\n",
              " (5, 23): 24.112024478461535,\n",
              " (5, 24): 21.347565570598817,\n",
              " (5, 25): 19.950215843724436,\n",
              " (5, 26): 19.247632056787552,\n",
              " (5, 27): 18.895588510727976,\n",
              " (5, 28): 18.719119925757695,\n",
              " (5, 29): 18.631032195931766,\n",
              " (6, 6): 57839.78683717665,\n",
              " (6, 7): 10.434394121148216,\n",
              " (6, 8): 7.705235425964929,\n",
              " (6, 9): 6.326081199804321,\n",
              " (6, 10): 5.63277009405283,\n",
              " (6, 11): 5.285169588270946,\n",
              " (6, 12): 5.111131298377586,\n",
              " (6, 13): 5.0240526717389,\n",
              " (6, 14): 4.980498571705539,\n",
              " (6, 15): 277.4672834505982,\n",
              " (6, 16): 264.3051471791332,\n",
              " (6, 17): 195.63581837552192,\n",
              " (6, 18): 129.10551567310176,\n",
              " (6, 19): 78.4146659402104,\n",
              " (6, 20): 45.4640353786599,\n",
              " (6, 21): 26.313850455189822,\n",
              " (6, 22): 15.928943764687574,\n",
              " (6, 23): 10.51221668584185,\n",
              " (6, 24): 7.744981305462716,\n",
              " (6, 25): 6.346093130974623,\n",
              " (6, 26): 5.642701797027257,\n",
              " (6, 27): 5.290245082498586,\n",
              " (6, 28): 5.11356724959478,\n",
              " (6, 29): 5.025374535565788,\n",
              " (7, 7): 57845.19008338817,\n",
              " (7, 8): -3.275454916220042,\n",
              " (7, 9): -4.6959066174022155,\n",
              " (7, 10): -5.410206519787607,\n",
              " (7, 11): -5.768388519718428,\n",
              " (7, 12): -5.9477390556639875,\n",
              " (7, 13): -6.0374794595263666,\n",
              " (7, 14): -6.082365825379384,\n",
              " (7, 15): 259.657382307676,\n",
              " (7, 16): 251.01474410959054,\n",
              " (7, 17): 183.6150942268141,\n",
              " (7, 18): 117.66785703095957,\n",
              " (7, 19): 67.21609506939421,\n",
              " (7, 20): 34.35186740239442,\n",
              " (7, 21): 15.231568062728911,\n",
              " (7, 22): 4.857345706448541,\n",
              " (7, 23): -0.5552474520882242,\n",
              " (7, 24): -3.3207381684042048,\n",
              " (7, 25): -4.718837146101578,\n",
              " (7, 26): -5.421854970991262,\n",
              " (7, 27): -5.77413036696089,\n",
              " (7, 28): -5.9507187730123405,\n",
              " (7, 29): -6.038867212846526,\n",
              " (8, 8): 57855.54292591869,\n",
              " (8, 9): -17.922616633208236,\n",
              " (8, 10): -18.648135547155107,\n",
              " (8, 11): -19.011975466331933,\n",
              " (8, 12): -19.194167195120826,\n",
              " (8, 13): -19.28533127112314,\n",
              " (8, 14): -19.33093024174741,\n",
              " (8, 15): 241.00110654639866,\n",
              " (8, 16): 236.1359304687503,\n",
              " (8, 17): 169.70331341042038,\n",
              " (8, 18): 104.15634128358215,\n",
              " (8, 19): 53.86594512964075,\n",
              " (8, 20): 21.062775170437817,\n",
              " (8, 21): 1.965586771031667,\n",
              " (8, 22): -8.39939934600261,\n",
              " (8, 23): -13.808026012207847,\n",
              " (8, 24): -16.571706591334078,\n",
              " (8, 25): -17.968945007807633,\n",
              " (8, 26): -18.671543806463887,\n",
              " (8, 27): -19.0236126611926,\n",
              " (8, 28): -19.200098391418578,\n",
              " (8, 29): -19.28819579246192,\n",
              " (9, 9): 57874.61086759299,\n",
              " (9, 10): -39.17580832674139,\n",
              " (9, 11): -39.54257697088906,\n",
              " (9, 12): -39.72623968534026,\n",
              " (9, 13): -39.81814088176907,\n",
              " (9, 14): -39.86410912075371,\n",
              " (9, 15): 216.92729691831482,\n",
              " (9, 16): 214.6202173331112,\n",
              " (9, 17): 148.78428102964244,\n",
              " (9, 18): 83.47029256156384,\n",
              " (9, 19): 33.27257987303892,\n",
              " (9, 20): 0.5049449366124463,\n",
              " (9, 21): -18.57842282421916,\n",
              " (9, 22): -28.937716603650188,\n",
              " (9, 23): -34.34383737268945,\n",
              " (9, 24): -37.10635517897026,\n",
              " (9, 25): -38.50303535209241,\n",
              " (9, 26): -39.2053608714632,\n",
              " (9, 27): -39.557294647231174,\n",
              " (9, 28): -39.73371313075768,\n",
              " (9, 29): -39.82177708014933,\n",
              " (10, 10): 57907.339395528674,\n",
              " (10, 11): -73.00687626979197,\n",
              " (10, 12): -73.19128764527704,\n",
              " (10, 13): -73.28356400987104,\n",
              " (10, 14): -73.32972004354815,\n",
              " (10, 15): 181.4066188287252,\n",
              " (10, 16): 180.6150312658574,\n",
              " (10, 17): 115.1109604591984,\n",
              " (10, 18): 49.92254064071312,\n",
              " (10, 19): -0.2256072416130337,\n",
              " (10, 20): -32.97414681343798,\n",
              " (10, 21): -52.050006915902486,\n",
              " (10, 22): -62.40617203907459,\n",
              " (10, 23): -67.81090260577184,\n",
              " (10, 24): -70.57277139558573,\n",
              " (10, 25): -71.9691388767169,\n",
              " (10, 26): -72.67131103055726,\n",
              " (10, 27): -73.02316892421368,\n",
              " (10, 28): -73.19954961202893,\n",
              " (10, 29): -73.28759475523839,\n",
              " (11, 11): 57957.43573792221,\n",
              " (11, 12): -123.65701905275637,\n",
              " (11, 13): -123.74948499401944,\n",
              " (11, 14): -123.79573546825122,\n",
              " (11, 15): 129.82815456845128,\n",
              " (11, 16): 129.8661991113986,\n",
              " (11, 17): 64.5372264294565,\n",
              " (11, 18): -0.5860199013113743,\n",
              " (11, 19): -50.70854958091513,\n",
              " (11, 20): -83.4471993623738,\n",
              " (11, 21): -102.51915219890361,\n",
              " (11, 22): -112.87368053678074,\n",
              " (11, 23): -118.27768082195689,\n",
              " (11, 24): -121.03920777485473,\n",
              " (11, 25): -122.43541030988126,\n",
              " (11, 26): -123.13750149640691,\n",
              " (11, 27): -123.48931931203697,\n",
              " (11, 28): -123.6656800332712,\n",
              " (11, 29): -123.75371524054935,\n",
              " (12, 12): 58022.492169659075,\n",
              " (12, 13): -188.99099056782143,\n",
              " (12, 14): -189.03728862756543,\n",
              " (12, 15): 64.00702750105847,\n",
              " (12, 16): 64.47985084514221,\n",
              " (12, 17): -0.7591737080438179,\n",
              " (12, 18): -65.84922021433158,\n",
              " (12, 19): -115.95872795740434,\n",
              " (12, 20): -148.69234601386415,\n",
              " (12, 21): -167.76230633319938,\n",
              " (12, 22): -178.11599792941706,\n",
              " (12, 23): -183.51962416795868,\n",
              " (12, 24): -186.28097581645125,\n",
              " (12, 25): -187.67709370188823,\n",
              " (12, 26): -188.37914332046785,\n",
              " (12, 27): -188.73094055629917,\n",
              " (12, 28): -188.90729102379555,\n",
              " (12, 29): -188.99532112827,\n",
              " (13, 13): 58087.63960337739,\n",
              " (13, 14): -254.27735453416972,\n",
              " (13, 15): -1.528960131945496,\n",
              " (13, 16): -0.8334763412130997,\n",
              " (13, 17): -66.02691289172799,\n",
              " (13, 18): -131.10020417612395,\n",
              " (13, 19): -181.20314724276977,\n",
              " (13, 20): -213.93422756224027,\n",
              " (13, 21): -233.00318183462514,\n",
              " (13, 22): -243.35645044279227,\n",
              " (13, 23): -248.7598874174073,\n",
              " (13, 24): -251.52115031033463,\n",
              " (13, 25): -252.91722532342828,\n",
              " (13, 26): -253.61925388532836,\n",
              " (13, 27): -253.97104069521447,\n",
              " (13, 28): -254.14738596779353,\n",
              " (13, 29): -254.23541348694562,\n",
              " (14, 14): 58086.71783107446,\n",
              " (14, 15): -0.803055166368722,\n",
              " (14, 16): 0.0051134974346496165,\n",
              " (14, 17): -65.16537382864044,\n",
              " (14, 18): -130.23024844467,\n",
              " (14, 19): -180.32989569416532,\n",
              " (14, 20): -213.05970165978943,\n",
              " (14, 21): -232.12815045489697,\n",
              " (14, 22): -242.4812064116777,\n",
              " (14, 23): -247.88454819270555,\n",
              " (14, 24): -250.6457664312984,\n",
              " (14, 25): -252.0418198710031,\n",
              " (14, 26): -252.74383783615485,\n",
              " (14, 27): -253.09561939899868,\n",
              " (14, 28): -253.27196205704968,\n",
              " (14, 29): -253.35998827504955,\n",
              " (15, 15): 57834.269568907665,\n",
              " (15, 16): 105.31944272368855,\n",
              " (15, 17): 195.99712369198824,\n",
              " (15, 18): 228.24778060048993,\n",
              " (15, 19): 240.9848598283861,\n",
              " (15, 20): 246.50101525048376,\n",
              " (15, 21): 249.0457621874375,\n",
              " (15, 22): 250.26479326726985,\n",
              " (15, 23): 250.86096212791745,\n",
              " (15, 24): 251.155723492986,\n",
              " (15, 25): 251.3022706652555,\n",
              " (15, 26): 251.375325182511,\n",
              " (15, 27): 251.4118110444615,\n",
              " (15, 28): 251.43003027113446,\n",
              " (15, 29): 251.43914730586403,\n",
              " (16, 16): 57834.31591469651,\n",
              " (16, 17): 270.5008064045687,\n",
              " (16, 18): 266.2762518855816,\n",
              " (16, 19): 260.57439050066023,\n",
              " (16, 20): 256.7785420966029,\n",
              " (16, 21): 254.63516955799423,\n",
              " (16, 22): 253.50067076681444,\n",
              " (16, 23): 252.91750967059488,\n",
              " (16, 24): 252.6219273207971,\n",
              " (16, 25): 252.47315414495097,\n",
              " (16, 26): 252.3984943459509,\n",
              " (16, 27): 252.3611015260467,\n",
              " (16, 28): 252.34240034422692,\n",
              " (16, 29): 252.33303485470242,\n",
              " (17, 17): 57834.408570749496,\n",
              " (17, 18): 227.10844894148613,\n",
              " (17, 19): 209.35593371697178,\n",
              " (17, 20): 198.85842253787268,\n",
              " (17, 21): 193.14209224878869,\n",
              " (17, 22): 190.1572137785697,\n",
              " (17, 23): 188.63173819115036,\n",
              " (17, 24): 187.86052182935236,\n",
              " (17, 25): 187.47277714620577,\n",
              " (17, 26): 187.27839616029087,\n",
              " (17, 27): 187.18104251009936,\n",
              " (17, 28): 187.13236050281557,\n",
              " (17, 29): 187.10798252300447,\n",
              " (18, 18): 57834.59373979361,\n",
              " (18, 19): 158.64087222048693,\n",
              " (18, 20): 141.53478450344846,\n",
              " (18, 21): 132.04827976244997,\n",
              " (18, 22): 127.04036198815447,\n",
              " (18, 23): 124.46573902514501,\n",
              " (18, 24): 123.16008816890826,\n",
              " (18, 25): 122.50260970300587,\n",
              " (18, 26): 122.1727454073407,\n",
              " (18, 27): 122.00747025882447,\n",
              " (18, 28): 121.92480730826355,\n",
              " (18, 29): 121.88340889001847,\n",
              " (19, 19): 57834.96350794215,\n",
              " (19, 20): 98.52455539553193,\n",
              " (19, 21): 85.54891934425541,\n",
              " (19, 22): 78.62296652959049,\n",
              " (19, 23): 75.04095615509141,\n",
              " (19, 24): 73.21894513322331,\n",
              " (19, 25): 72.30002077807148,\n",
              " (19, 26): 71.83862516095542,\n",
              " (19, 27): 71.60735671732255,\n",
              " (19, 28): 71.49166420957772,\n",
              " (19, 29): 71.43371855418081,\n",
              " (20, 20): 57835.70077886298,\n",
              " (20, 21): 55.08107081131311,\n",
              " (20, 22): 46.71353184332111,\n",
              " (20, 23): 42.368448605411686,\n",
              " (20, 24): 40.15382191885874,\n",
              " (20, 25): 39.03561093747703,\n",
              " (20, 26): 38.4736860433477,\n",
              " (20, 27): 38.19220014161692,\n",
              " (20, 28): 38.0511194577266,\n",
              " (20, 29): 37.980535832743044,\n",
              " (21, 21): 57837.16638500832,\n",
              " (21, 22): 27.167900968102913,\n",
              " (21, 23): 22.339270449781907,\n",
              " (21, 24): 19.87514756386372,\n",
              " (21, 25): 18.630179340281757,\n",
              " (21, 26): 18.00435804197332,\n",
              " (21, 27): 17.690814552544907,\n",
              " (21, 28): 17.53365408654645,\n",
              " (21, 29): 17.455206687009195,\n",
              " (22, 22): 57840.06282001841,\n",
              " (22, 23): 9.376912378960697,\n",
              " (22, 24): 6.770926736280671,\n",
              " (22, 25): 5.453834043357347,\n",
              " (22, 26): 4.791643006399681,\n",
              " (22, 27): 4.459849139326252,\n",
              " (22, 28): 4.293533641095564,\n",
              " (22, 29): 4.210514659971523,\n",
              " (23, 23): 57845.72377140098,\n",
              " (23, 24): -4.215696715022204,\n",
              " (23, 25): -5.571355595791829,\n",
              " (23, 26): -6.252797800443659,\n",
              " (23, 27): -6.594553249669843,\n",
              " (23, 28): -6.76556514648837,\n",
              " (23, 29): -6.851230072548788,\n",
              " (24, 24): 57856.56836129771,\n",
              " (24, 25): -19.156934975057084,\n",
              " (24, 26): -19.84864152126829,\n",
              " (24, 27): -20.195451313178637,\n",
              " (24, 28): -20.368994376178307,\n",
              " (24, 29): -20.455927742557833,\n",
              " (25, 25): 57876.66397778332,\n",
              " (25, 26): -41.3351410174364,\n",
              " (25, 27): -41.68431734195474,\n",
              " (25, 28): -41.859353017141984,\n",
              " (25, 29): -41.94672656503826,\n",
              " (26, 26): 57912.14043718014,\n",
              " (26, 27): -77.86148313207377,\n",
              " (26, 28): -78.03696336216672,\n",
              " (26, 29): -78.12486750588141,\n",
              " (27, 27): 57971.07245102962,\n",
              " (27, 28): -137.3206328078304,\n",
              " (27, 29): -137.40870043577888,\n",
              " (28, 28): 58062.134868815425,\n",
              " (28, 29): -228.647169929347,\n",
              " (29, 29): 58188.631035242914}"
            ]
          },
          "metadata": {
            "tags": []
          },
          "execution_count": 69
        }
      ]
    },
    {
      "cell_type": "code",
      "metadata": {
        "id": "P2kBmQjAA2Lv",
        "colab_type": "code",
        "outputId": "9da7c74d-2966-42ac-e7dc-d4cb7000d2b0",
        "colab": {
          "base_uri": "https://localhost:8080/",
          "height": 85
        }
      },
      "source": [
        "!pip install dwave-qbsolv"
      ],
      "execution_count": 0,
      "outputs": [
        {
          "output_type": "stream",
          "text": [
            "Requirement already satisfied: dwave-qbsolv in /usr/local/lib/python3.6/dist-packages (0.2.10)\n",
            "Requirement already satisfied: dimod<0.9.0,>=0.6.10 in /usr/local/lib/python3.6/dist-packages (from dwave-qbsolv) (0.8.17)\n",
            "Requirement already satisfied: numpy<2.0.0,>=1.15.0 in /usr/local/lib/python3.6/dist-packages (from dimod<0.9.0,>=0.6.10->dwave-qbsolv) (1.17.3)\n",
            "Requirement already satisfied: six<2.0.0,>=1.10.0 in /usr/local/lib/python3.6/dist-packages (from dimod<0.9.0,>=0.6.10->dwave-qbsolv) (1.12.0)\n"
          ],
          "name": "stdout"
        }
      ]
    },
    {
      "cell_type": "markdown",
      "metadata": {
        "id": "TGkJ9Wsak7U4",
        "colab_type": "text"
      },
      "source": [
        "To find the optimal solution, we make use of the D-Wave Ocean Software. It provides a \"decomposing solver that finds a minimum value of a large quadratic unconstrained binary optimization (QUBO) problem by splitting it into pieces. The pieces are solved using a classical solver running the tabu algorithm. qbsolv also enables configuring a D-Wave system as the solver\". \n",
        "\n",
        "The advange of the D-Wave Ocean Software is that it allows for making direct use of classical and quantum approaches, by changing the method in the QBSolv method.\n",
        "\n",
        "For details, see: https://docs.ocean.dwavesys.com/projects/qbsolv/en/latest/#"
      ]
    },
    {
      "cell_type": "code",
      "metadata": {
        "id": "DG0NCqdXBJWv",
        "colab_type": "code",
        "outputId": "dc2728a0-3fe2-4ef0-a11f-638c5118d13c",
        "colab": {
          "base_uri": "https://localhost:8080/",
          "height": 71
        }
      },
      "source": [
        "from dwave_qbsolv import QBSolv \n",
        "response = QBSolv().sample_qubo(Q)\n",
        "print(\"samples=\" + str(list(response.samples()))) \n",
        "print(\"energies=\" + str(list(response.data_vectors['energy'])))"
      ],
      "execution_count": 0,
      "outputs": [
        {
          "output_type": "stream",
          "text": [
            "samples=[{0: 0, 1: 0, 2: 0, 3: 0, 4: 0, 5: 0, 6: 0, 7: 0, 8: 0, 9: 0, 10: 0, 11: 0, 12: 0, 13: 0, 14: 0, 15: 0, 16: 0, 17: 0, 18: 0, 19: 0, 20: 0, 21: 0, 22: 0, 23: 0, 24: 0, 25: 0, 26: 0, 27: 0, 28: 0, 29: 0}]\n",
            "energies=[-0.0]\n"
          ],
          "name": "stdout"
        }
      ]
    },
    {
      "cell_type": "markdown",
      "metadata": {
        "id": "H3jSWuLvaPFV",
        "colab_type": "text"
      },
      "source": [
        "#Closing Remarks\n",
        "\n",
        "Once the minimun value of the QUBO problem is found, either classically or quantum mechanically, the time needed to decodify the solution is the same for both, classical and quantum approaches. For the cases for which we could find a solution, $N=2$ , we could not estimate the efficiency of quantum results versus classical approaches, both obtained with the D-Wave Ocean Software.\n",
        "\n",
        "However, we indeed show that it is possible to formulate the climb optimization problem into a suitable form for quantum computing. \n",
        "\n",
        "For the case we dealt with $N=2$, and for the discretization approach, a number of 30 qubits is needed. If the same discretization approch is followed, then the number of quitis will grow as $30 \\times (N-1)$."
      ]
    }
  ]
}